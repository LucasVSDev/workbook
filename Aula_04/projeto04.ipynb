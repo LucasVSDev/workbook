{
 "cells": [
  {
   "cell_type": "markdown",
   "metadata": {},
   "source": [
    "# Projeto 04\n",
    "\n",
    "- `pip install opencv-python`\n",
    "- `pip install mediapipe`\n",
    "- `pip install cvzone`"
   ]
  },
  {
   "cell_type": "markdown",
   "metadata": {},
   "source": [
    "#### Looping com `while`"
   ]
  },
  {
   "cell_type": "code",
   "execution_count": 17,
   "metadata": {},
   "outputs": [
    {
     "name": "stdout",
     "output_type": "stream",
     "text": [
      "5\n",
      "4\n",
      "3\n",
      "2\n",
      "1\n"
     ]
    }
   ],
   "source": [
    "contador = 5\n",
    "\n",
    "while contador > 0:\n",
    "    print(contador)\n",
    "    contador = contador - 1"
   ]
  },
  {
   "cell_type": "markdown",
   "metadata": {},
   "source": [
    "#### Teste logicos com `if` e `else`\n",
    "- = Recebe\n",
    "- == Igual\n",
    "- != Dirente ou igual"
   ]
  },
  {
   "cell_type": "code",
   "execution_count": 13,
   "metadata": {},
   "outputs": [
    {
     "name": "stdout",
     "output_type": "stream",
     "text": [
      "Melhor linguagem do mundo!\n"
     ]
    }
   ],
   "source": [
    "linguagem = \"C#\"\n",
    "\n",
    "if linguagem != \"Python\":\n",
    "    print(\"Melhor linguagem do mundo!\")\n",
    "else:\n",
    "    print(linguagem)"
   ]
  },
  {
   "cell_type": "markdown",
   "metadata": {},
   "source": [
    "#### Looping infinitos"
   ]
  },
  {
   "cell_type": "code",
   "execution_count": 16,
   "metadata": {},
   "outputs": [
    {
     "name": "stdout",
     "output_type": "stream",
     "text": [
      "semana\n",
      "Python\n",
      "lucas\n",
      "Henrique\n",
      "parar\n"
     ]
    }
   ],
   "source": [
    "while True:\n",
    "    mensagem = input(\"Digite algo: \")\n",
    "    print(mensagem)\n",
    "\n",
    "    if mensagem == \"parar\":\n",
    "        break"
   ]
  },
  {
   "cell_type": "code",
   "execution_count": null,
   "metadata": {},
   "outputs": [],
   "source": [
    "import cv2\n",
    "from cvzone.HandTrackingModule import HandDetector\n",
    "# from cvzone.FaceDetectionModule import FaceDetector\n",
    "\n",
    "webcam = cv2.VideoCapture(0)\n",
    "rastreador = HandDetector(detectionCon = 0.8, maxHands=2)\n",
    "\n",
    "while True:\n",
    "    sucesso, image = webcam.read()\n",
    "    coordenadas, imagem_maos = rastreador.findHands(image)\n",
    "    \n",
    "    print(coordenadas)\n",
    "    \n",
    "    cv2.imshow(\"Projeto 4 - IA\", image)\n",
    "    \n",
    "    if cv2.waitKey(1) != -1:\n",
    "        break\n",
    "\n",
    "webcam.release()\n",
    "cv2.destroyAllWindows()\n",
    "    "
   ]
  }
 ],
 "metadata": {
  "kernelspec": {
   "display_name": ".venv",
   "language": "python",
   "name": "python3"
  },
  "language_info": {
   "codemirror_mode": {
    "name": "ipython",
    "version": 3
   },
   "file_extension": ".py",
   "mimetype": "text/x-python",
   "name": "python",
   "nbconvert_exporter": "python",
   "pygments_lexer": "ipython3",
   "version": "3.12.4"
  }
 },
 "nbformat": 4,
 "nbformat_minor": 2
}
